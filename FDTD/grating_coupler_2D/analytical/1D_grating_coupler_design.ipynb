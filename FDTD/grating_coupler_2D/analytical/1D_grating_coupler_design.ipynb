{
 "cells": [
  {
   "cell_type": "markdown",
   "id": "7e73c121",
   "metadata": {},
   "source": [
    "# Grating Coupler Design - Jupyter Notebook\n",
    "\n",
    "---\n",
    "\n",
    "## 1D Grating Coupler Design\n",
    "In this notebook, we will derive and calculate the key parameters required to design a 1D grating coupler.   \n",
    "Grating couplers are essential components in photonic circuits for coupling light between fiber and chip.\n",
    "\n",
    "---"
   ]
  },
  {
   "cell_type": "markdown",
   "id": "fef72303",
   "metadata": {},
   "source": [
    "## Importing Necessary Libraries\n",
    "Import essential libraries for numerical calculations and plotting."
   ]
  },
  {
   "cell_type": "code",
   "execution_count": 59,
   "id": "39f9af66",
   "metadata": {},
   "outputs": [],
   "source": [
    "import numpy as np\n",
    "import matplotlib.pyplot as plt\n",
    "from IPython.display import Markdown\n"
   ]
  },
  {
   "cell_type": "markdown",
   "id": "28be9bfe",
   "metadata": {},
   "source": [
    "## Design Parameters\n",
    "Let's define key parameters for the grating coupler design. You can change these values as per your requirements."
   ]
  },
  {
   "cell_type": "markdown",
   "id": "644e12ea",
   "metadata": {},
   "source": [
    "### 1. Calculating the Coupling Angle using Snell's Law\n",
    "In this section, you’ll use Snell's Law to determine the coupling angle, which is essential for the grating coupler's design. The light is refracted from the air to the waveguide cladding.\n",
    "\n",
    "#### **Snell's law**\n",
    "$$ n_{air} \\sin(\\theta_{in}) =  n_{clad} \\sin(\\theta_{out})$$"
   ]
  },
  {
   "cell_type": "code",
   "execution_count": 60,
   "id": "577cd753",
   "metadata": {},
   "outputs": [
    {
     "name": "stdout",
     "output_type": "stream",
     "text": [
      "Output angle (θ_out): 8.28 degrees\n"
     ]
    }
   ],
   "source": [
    "# Refractive indices\n",
    "n_air = 1.0          # Refractive index of air\n",
    "n_cladding = 1.444   # Substitute with actual cladding refractive index\n",
    "\n",
    "# Input angle in degrees\n",
    "theta_in_deg = 12    # Example angle, adjust as necessary\n",
    "theta_in_rad = np.radians(theta_in_deg)\n",
    "\n",
    "# Calculate output angle using Snell's law\n",
    "theta_out_rad = np.arcsin((n_air / n_cladding) * np.sin(theta_in_rad))\n",
    "theta_out_deg = np.degrees(theta_out_rad)\n",
    "\n",
    "print(f\"Output angle (θ_out): {theta_out_deg:.2f} degrees\")\n"
   ]
  },
  {
   "cell_type": "markdown",
   "id": "c083398d",
   "metadata": {},
   "source": [
    "### 2. Define the grating coupler parameters\n",
    "\n",
    "If we denote the effective index of the grating teeth as neff1 , and the effective\n",
    "index of the grating slots as neff2 , then the effective index of the grating region can be\n",
    "expressed as:\n",
    "\n",
    "$$ n_{\\text{eff}} = DC\\cdot n_{\\text{eff}_1} + (1-DC)\\cdot n_{\\text{eff}_2} $$"
   ]
  },
  {
   "cell_type": "code",
   "execution_count": 73,
   "id": "8d63d18a",
   "metadata": {},
   "outputs": [
    {
     "name": "stdout",
     "output_type": "stream",
     "text": [
      "The average effective index of the grating (n_eff): 2.56 \n"
     ]
    }
   ],
   "source": [
    "# Wavelength of the input light in microns\n",
    "wavelength = 1.55  # microns\n",
    "\n",
    "# Effective index of the waveguide mode (estimated)\n",
    "n_eff1 = 2.8488     # for the waveguide mode [i.e. 220nm thickness]\n",
    "n_eff2 = 2.2703     # for the slab mode [i.e. 110nm thickness]\n",
    "\n",
    "# Assuming a duty cycle of 50%\n",
    "duty_cycle = 0.5\n",
    "\n",
    "# Calculating the average refractive index of the grating\n",
    "n_eff = duty_cycle * n_eff1 + (1 - duty_cycle) * n_eff2\n",
    "\n",
    "# Refractive index of the cladding (e.g., air or oxide)\n",
    "n_clad = 1.444\n",
    "\n",
    "# Coupling angle of the grating (in degrees, with respect to normal incidence)\n",
    "theta_coupler = theta_out_deg\n",
    "print(f\"The average effective index of the grating (n_eff): {n_eff:.2f} \")"
   ]
  },
  {
   "cell_type": "markdown",
   "id": "4e45115b",
   "metadata": {},
   "source": [
    "### 3. Calculating the Grating Period\n",
    "The grating period can be calculated using the phase-matching condition:\n",
    " \n",
    "$$ \\Lambda = \\frac{\\lambda_0}{n_{\\text{eff}} - n_{\\text{clad}} \\sin(\\theta_{\\text{coupler}})} $$\n",
    " \n",
    "Where:\n",
    "- $\\lambda_0$ is the wavelength of light in free space\n",
    "- $n_{\\text{eff}}$ is the effective index of the waveguide mode\n",
    "- $n_{\\text{clad}}$ is the refractive index of the cladding\n",
    "- $\\theta_{\\text{coupler}}$ is the coupling angle"
   ]
  },
  {
   "cell_type": "code",
   "execution_count": 74,
   "id": "4544c968",
   "metadata": {},
   "outputs": [
    {
     "name": "stdout",
     "output_type": "stream",
     "text": [
      "Grating Period (Λ): 0.659 microns\n"
     ]
    }
   ],
   "source": [
    "# Convert coupling angle to radians for calculation\n",
    "theta_rad = np.radians(theta_coupler)\n",
    "\n",
    "# Calculate the grating period\n",
    "grating_period = wavelength / (n_eff - n_clad * np.sin(theta_rad))\n",
    "print(f\"Grating Period (Λ): {grating_period:.3f} microns\")"
   ]
  },
  {
   "cell_type": "markdown",
   "id": "95f4b5a2",
   "metadata": {},
   "source": [
    "### 4. Grating Coupler Efficiency\n",
    "A rough estimate of the grating coupler efficiency can be made by considering factors such as the overlap between the fiber mode and the grating mode, radiation angle, and scattering losses.\n",
    " \n",
    "Here, we will assume a simple model for efficiency $\\eta$ based on the overlap of mode profiles and material losses."
   ]
  },
  {
   "cell_type": "code",
   "execution_count": 75,
   "id": "544df658",
   "metadata": {},
   "outputs": [
    {
     "name": "stdout",
     "output_type": "stream",
     "text": [
      "Estimated Grating Coupler Efficiency: 63.00%\n"
     ]
    }
   ],
   "source": [
    "# Coupling efficiency parameter (empirical, varies based on design, generally between 0.5 and 0.9)\n",
    "overlap_factor = 0.7  \n",
    "\n",
    "# Assuming an arbitrary material loss factor for simplicity\n",
    "material_loss_factor = 0.9\n",
    "\n",
    "# Calculate the efficiency\n",
    "efficiency = overlap_factor * material_loss_factor\n",
    "print(f\"Estimated Grating Coupler Efficiency: {efficiency * 100:.2f}%\")"
   ]
  },
  {
   "cell_type": "markdown",
   "id": "ca28bc28",
   "metadata": {},
   "source": [
    "### 5. Visualizing the Grating Coupler Structure\n",
    "Let’s plot the basic grating structure, illustrating the period and duty cycle for clarity."
   ]
  },
  {
   "cell_type": "code",
   "execution_count": 76,
   "id": "0f2e060c",
   "metadata": {},
   "outputs": [
    {
     "data": {
      "image/png": "[encoded data removed]",
      "text/plain": [
       "<Figure size 1000x200 with 1 Axes>"
      ]
     },
     "metadata": {},
     "output_type": "display_data"
    }
   ],
   "source": [
    "# Define x-axis for one period\n",
    "x = np.linspace(0, grating_period, 1000)\n",
    "\n",
    "# Define the grating structure with duty cycle\n",
    "y = np.where((x % grating_period) < (duty_cycle * grating_period), n_eff1, n_eff2)\n",
    "# Plotting the grating structure\n",
    "plt.figure(figsize=(10, 2))\n",
    "plt.plot(x, y, color='blue', linewidth=2)\n",
    "plt.fill_between(x, y, color='lightblue', alpha=0.5)\n",
    "plt.title(\"1D Grating Structure\")\n",
    "plt.xlabel(\"Position (microns)\")\n",
    "plt.ylabel(\"Effective Index Profile\")\n",
    "plt.ylim(-0.1, 1.5*n_eff1)\n",
    "plt.grid(True)\n",
    "plt.show()"
   ]
  },
  {
   "cell_type": "code",
   "execution_count": 77,
   "id": "59fb1e2e",
   "metadata": {},
   "outputs": [
    {
     "data": {
      "text/markdown": [
       "\n",
       "---\n",
       "## Summary of Results\n",
       "- **Grating Period (Λ):** 0.659 microns\n",
       "- **Duty Cycle (DC):** 0.500\n",
       "- **Estimated Coupling Efficiency:** 63.00%\n",
       "\n",
       "\n",
       "---\n"
      ],
      "text/plain": [
       "<IPython.core.display.Markdown object>"
      ]
     },
     "metadata": {},
     "output_type": "display_data"
    }
   ],
   "source": [
    "summary_md = f\"\"\"\n",
    "---\n",
    "## Summary of Results\n",
    "- **Grating Period (Λ):** {grating_period:.3f} microns\n",
    "- **Duty Cycle (DC):** {duty_cycle:.3f}\n",
    "- **Estimated Coupling Efficiency:** {efficiency * 100:.2f}%\n",
    "\n",
    "\n",
    "---\n",
    "\"\"\"\n",
    "\n",
    "display(Markdown(summary_md))"
   ]
  }
 ],
 "metadata": {
  "kernelspec": {
   "display_name": "base",
   "language": "python",
   "name": "python3"
  },
  "language_info": {
   "codemirror_mode": {
    "name": "ipython",
    "version": 3
   },
   "file_extension": ".py",
   "mimetype": "text/x-python",
   "name": "python",
   "nbconvert_exporter": "python",
   "pygments_lexer": "ipython3",
   "version": "3.9.18"
  }
 },
 "nbformat": 4,
 "nbformat_minor": 5
}
