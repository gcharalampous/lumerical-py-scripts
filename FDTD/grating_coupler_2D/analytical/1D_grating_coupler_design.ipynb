{
 "cells": [
  {
   "cell_type": "markdown",
   "id": "7e73c121",
   "metadata": {},
   "source": [
    "# Grating Coupler Design - Jupyter Notebook\n",
    "\n",
    "---\n",
    "# 1D Grating Coupler Design\n",
    "In this notebook, we will derive and calculate the key parameters required to design a 1D grating coupler. \n",
    "Grating couplers are essential components in photonic circuits for coupling light between fiber and chip.\n",
    "---"
   ]
  },
  {
   "cell_type": "markdown",
   "id": "fef72303",
   "metadata": {},
   "source": [
    "## Importing Necessary Libraries\n",
    "Import essential libraries for numerical calculations and plotting."
   ]
  },
  {
   "cell_type": "code",
   "execution_count": 38,
   "id": "39f9af66",
   "metadata": {},
   "outputs": [],
   "source": [
    "import numpy as np\n",
    "import matplotlib.pyplot as plt\n",
    "from IPython.display import Markdown\n"
   ]
  },
  {
   "cell_type": "markdown",
   "id": "28be9bfe",
   "metadata": {},
   "source": [
    "## Design Parameters\n",
    "Let's define key parameters for the grating coupler design. You can change these values as per your requirements."
   ]
  },
  {
   "cell_type": "code",
   "execution_count": 39,
   "id": "8d63d18a",
   "metadata": {},
   "outputs": [],
   "source": [
    "# Wavelength of the input light in microns\n",
    "wavelength = 1.55  # microns\n",
    "\n",
    "# Effective index of the waveguide mode (estimated)\n",
    "n_eff = 2.5  \n",
    "\n",
    "# Refractive index of the cladding (e.g., air or oxide)\n",
    "n_clad = 1.0\n",
    "\n",
    "# Coupling angle of the grating (in degrees, with respect to normal incidence)\n",
    "theta_coupler = 10  # degrees"
   ]
  },
  {
   "cell_type": "markdown",
   "id": "4e45115b",
   "metadata": {},
   "source": [
    "## 1. Calculating the Grating Period\n",
    "The grating period can be calculated using the phase-matching condition:\n",
    " \n",
    "$$ \\Lambda = \\frac{\\lambda_0}{n_{\\text{eff}} - n_{\\text{clad}} \\sin(\\theta_{\\text{coupler}})} $$\n",
    " \n",
    "Where:\n",
    "- $\\lambda_0$ is the wavelength of light in free space\n",
    "- $n_{\\text{eff}}$ is the effective index of the waveguide mode\n",
    "- $n_{\\text{clad}}$ is the refractive index of the cladding\n",
    "- $\\theta_{\\text{coupler}}$ is the coupling angle"
   ]
  },
  {
   "cell_type": "code",
   "execution_count": 40,
   "id": "4544c968",
   "metadata": {},
   "outputs": [
    {
     "name": "stdout",
     "output_type": "stream",
     "text": [
      "Grating Period (Λ): 0.666 microns\n"
     ]
    }
   ],
   "source": [
    "# Convert coupling angle to radians for calculation\n",
    "theta_rad = np.radians(theta_coupler)\n",
    "\n",
    "# Calculate the grating period\n",
    "grating_period = wavelength / (n_eff - n_clad * np.sin(theta_rad))\n",
    "print(f\"Grating Period (Λ): {grating_period:.3f} microns\")"
   ]
  },
  {
   "cell_type": "markdown",
   "id": "a9f665b7",
   "metadata": {},
   "source": [
    "## 2. Duty Cycle Calculation\n",
    "The duty cycle is defined as the ratio of the width of the etched region (or high-index region) to the period.\n",
    " \n",
    "Assuming a target effective index for the grating, the duty cycle $DC$ can be calculated as:\n",
    " \n",
    "$$ DC = \\frac{n_{\\text{eff, target}} - n_{\\text{clad}}}{n_{\\text{eff}} - n_{\\text{clad}}} $$\n",
    " \n",
    "For simplicity, let’s assume the target effective index of the grating is the average of $n_{\\text{eff}}$ and $n_{\\text{clad}}$."
   ]
  },
  {
   "cell_type": "code",
   "execution_count": 41,
   "id": "6e882db3",
   "metadata": {},
   "outputs": [
    {
     "name": "stdout",
     "output_type": "stream",
     "text": [
      "Duty Cycle (DC): 0.500\n"
     ]
    }
   ],
   "source": [
    "# Define target effective index\n",
    "n_eff_target = (n_eff + n_clad) / 2\n",
    "\n",
    "# Calculate duty cycle\n",
    "duty_cycle = (n_eff_target - n_clad) / (n_eff - n_clad)\n",
    "print(f\"Duty Cycle (DC): {duty_cycle:.3f}\")"
   ]
  },
  {
   "cell_type": "markdown",
   "id": "95f4b5a2",
   "metadata": {},
   "source": [
    "## 3. Grating Coupler Efficiency\n",
    "A rough estimate of the grating coupler efficiency can be made by considering factors such as the overlap between the fiber mode and the grating mode, radiation angle, and scattering losses.\n",
    " \n",
    "Here, we will assume a simple model for efficiency $\\eta$ based on the overlap of mode profiles and material losses."
   ]
  },
  {
   "cell_type": "code",
   "execution_count": 42,
   "id": "544df658",
   "metadata": {},
   "outputs": [
    {
     "name": "stdout",
     "output_type": "stream",
     "text": [
      "Estimated Grating Coupler Efficiency: 63.00%\n"
     ]
    }
   ],
   "source": [
    "# Coupling efficiency parameter (empirical, varies based on design, generally between 0.5 and 0.9)\n",
    "overlap_factor = 0.7  \n",
    "\n",
    "# Assuming an arbitrary material loss factor for simplicity\n",
    "material_loss_factor = 0.9\n",
    "\n",
    "# Calculate the efficiency\n",
    "efficiency = overlap_factor * material_loss_factor\n",
    "print(f\"Estimated Grating Coupler Efficiency: {efficiency * 100:.2f}%\")"
   ]
  },
  {
   "cell_type": "markdown",
   "id": "ca28bc28",
   "metadata": {},
   "source": [
    "## 4. Visualizing the Grating Coupler Structure\n",
    "Let’s plot the basic grating structure, illustrating the period and duty cycle for clarity."
   ]
  },
  {
   "cell_type": "code",
   "execution_count": 43,
   "id": "0f2e060c",
   "metadata": {},
   "outputs": [
    {
     "data": {
      "image/png": "[encoded data removed]",
      "text/plain": [
       "<Figure size 1000x200 with 1 Axes>"
      ]
     },
     "metadata": {},
     "output_type": "display_data"
    }
   ],
   "source": [
    "# Define x-axis for one period\n",
    "x = np.linspace(0, grating_period, 1000)\n",
    "\n",
    "# Define the grating structure with duty cycle\n",
    "y = np.where((x % grating_period) < (duty_cycle * grating_period), 1, 0)\n",
    "\n",
    "# Plotting the grating structure\n",
    "plt.figure(figsize=(10, 2))\n",
    "plt.plot(x, y, color='blue', linewidth=2)\n",
    "plt.fill_between(x, y, color='lightblue', alpha=0.5)\n",
    "plt.title(\"1D Grating Structure\")\n",
    "plt.xlabel(\"Position (microns)\")\n",
    "plt.ylabel(\"Refractive Index Profile\")\n",
    "plt.ylim(-0.1, 1.1)\n",
    "plt.grid(True)\n",
    "plt.show()"
   ]
  },
  {
   "cell_type": "code",
   "execution_count": 44,
   "id": "59fb1e2e",
   "metadata": {},
   "outputs": [
    {
     "data": {
      "text/markdown": [
       "\n",
       "---\n",
       "# Summary of Results\n",
       "- Grating Period (Λ): 0.666 microns\n",
       "- Duty Cycle (DC): 0.500\n",
       "- Estimated Coupling Efficiency: 63.00%\n",
       "\n",
       "### Conclusion\n",
       "These results provide a preliminary 1D analytical design for the grating coupler. \n",
       "Further simulations (e.g., FDTD) would help refine this design.\n",
       "---\n"
      ],
      "text/plain": [
       "<IPython.core.display.Markdown object>"
      ]
     },
     "metadata": {},
     "output_type": "display_data"
    }
   ],
   "source": [
    "summary_md = f\"\"\"\n",
    "---\n",
    "# Summary of Results\n",
    "- Grating Period (Λ): {grating_period:.3f} microns\n",
    "- Duty Cycle (DC): {duty_cycle:.3f}\n",
    "- Estimated Coupling Efficiency: {efficiency * 100:.2f}%\n",
    "\n",
    "### Conclusion\n",
    "These results provide a preliminary 1D analytical design for the grating coupler. \n",
    "Further simulations (e.g., FDTD) would help refine this design.\n",
    "---\n",
    "\"\"\"\n",
    "\n",
    "display(Markdown(summary_md))"
   ]
  }
 ],
 "metadata": {
  "kernelspec": {
   "display_name": "base",
   "language": "python",
   "name": "python3"
  },
  "language_info": {
   "codemirror_mode": {
    "name": "ipython",
    "version": 3
   },
   "file_extension": ".py",
   "mimetype": "text/x-python",
   "name": "python",
   "nbconvert_exporter": "python",
   "pygments_lexer": "ipython3",
   "version": "3.9.18"
  }
 },
 "nbformat": 4,
 "nbformat_minor": 5
}
